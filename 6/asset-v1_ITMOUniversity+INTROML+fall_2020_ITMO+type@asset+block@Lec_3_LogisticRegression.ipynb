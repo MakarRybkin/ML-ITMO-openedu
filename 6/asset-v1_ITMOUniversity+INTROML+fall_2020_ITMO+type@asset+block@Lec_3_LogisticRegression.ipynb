{
 "cells": [
  {
   "cell_type": "markdown",
   "metadata": {},
   "source": [
    "# Введение в Машинное обучение\n",
    "\n",
    "## Высшая Школа Цифровой Культуры\n",
    "\n",
    "## Материалы к лекции 3. Логистическая регрессия"
   ]
  },
  {
   "cell_type": "markdown",
   "metadata": {},
   "source": [
    "Обработка данных"
   ]
  },
  {
   "cell_type": "code",
   "metadata": {
    "ExecuteTime": {
     "end_time": "2025-02-03T14:49:55.658832Z",
     "start_time": "2025-02-03T14:49:55.641813Z"
    }
   },
   "source": [
    "#чтение данных, так как названия конфет уникальны, используем их в качестве индекса\n",
    "import pandas as pd\n",
    "DATA = pd.read_csv(\"candy-data.csv\", delimiter=',', index_col='competitorname')"
   ],
   "outputs": [],
   "execution_count": 26
  },
  {
   "cell_type": "code",
   "metadata": {
    "ExecuteTime": {
     "end_time": "2025-02-03T14:49:56.483345Z",
     "start_time": "2025-02-03T14:49:56.472529Z"
    }
   },
   "source": [
    "#обучение модели будем проводить на данных, за исключением некоторых конфет\n",
    "train_data = DATA.drop(['Chewey Lemonhead Fruit Mix', 'Runts', 'Sixlets'])"
   ],
   "outputs": [],
   "execution_count": 27
  },
  {
   "cell_type": "code",
   "metadata": {
    "ExecuteTime": {
     "end_time": "2025-02-03T14:49:57.483176Z",
     "start_time": "2025-02-03T14:49:57.472749Z"
    }
   },
   "source": [
    "#отбор данных для предикторов, удаление дввух последних столбцов, индекс не включается в данные автоматически.\n",
    "X = pd.DataFrame(train_data.drop(['winpercent', 'Y'], axis=1))"
   ],
   "outputs": [],
   "execution_count": 28
  },
  {
   "cell_type": "code",
   "metadata": {
    "ExecuteTime": {
     "end_time": "2025-02-03T14:50:00.528284Z",
     "start_time": "2025-02-03T14:50:00.520001Z"
    }
   },
   "source": [
    "#отбор столбца для отклика\n",
    "y = pd.DataFrame(train_data['Y'])"
   ],
   "outputs": [],
   "execution_count": 29
  },
  {
   "cell_type": "markdown",
   "metadata": {},
   "source": [
    "Обучение модели логистической регрессии"
   ]
  },
  {
   "cell_type": "code",
   "metadata": {
    "ExecuteTime": {
     "end_time": "2025-02-03T14:50:04.906640Z",
     "start_time": "2025-02-03T14:50:04.899539Z"
    }
   },
   "source": [
    "#подключение модели логистической регрессии из библиотеки sklearn\n",
    "from sklearn.linear_model import LogisticRegression"
   ],
   "outputs": [],
   "execution_count": 30
  },
  {
   "cell_type": "code",
   "metadata": {
    "ExecuteTime": {
     "end_time": "2025-02-03T14:50:05.582109Z",
     "start_time": "2025-02-03T14:50:05.560557Z"
    }
   },
   "source": [
    "#обучение модели\n",
    "reg = LogisticRegression(random_state=2019, solver='lbfgs').fit(X, y.values.ravel())"
   ],
   "outputs": [],
   "execution_count": 31
  },
  {
   "cell_type": "markdown",
   "metadata": {},
   "source": [
    "Предсказание результатов с помощью обученной модели"
   ]
  },
  {
   "cell_type": "code",
   "metadata": {
    "ExecuteTime": {
     "end_time": "2025-02-03T14:52:39.260291Z",
     "start_time": "2025-02-03T14:52:39.247519Z"
    }
   },
   "source": [
    "#предсказание для сладости, введенной вручную, вероятности указаны для классов 0 и 1 соответственно \n",
    "reg.predict_proba([[1, 1, 1, 0, 0, 1, 1, 1, 0, 0.64, 0.76]])"
   ],
   "outputs": [
    {
     "name": "stderr",
     "output_type": "stream",
     "text": [
      "C:\\Users\\makar\\OneDrive\\Рабочий стол\\ml,ai,ds\\openedu itmo ml\\.venv\\Lib\\site-packages\\sklearn\\utils\\validation.py:2739: UserWarning: X does not have valid feature names, but LogisticRegression was fitted with feature names\n",
      "  warnings.warn(\n"
     ]
    },
    {
     "data": {
      "text/plain": [
       "array([[0.13646496, 0.86353504]])"
      ]
     },
     "execution_count": 33,
     "metadata": {},
     "output_type": "execute_result"
    }
   ],
   "execution_count": 33
  },
  {
   "cell_type": "code",
   "metadata": {
    "ExecuteTime": {
     "end_time": "2025-02-03T14:52:50.590869Z",
     "start_time": "2025-02-03T14:52:50.576120Z"
    }
   },
   "source": [
    "#предсказание для сладости из таблицы\n",
    "#выбор строки из таблицы\n",
    "AirHeads = DATA.loc['Air Heads',:].to_frame().T\n",
    "#отбор данных для предикторов и предсказание\n",
    "reg.predict(AirHeads.drop(['winpercent', 'Y'], axis=1))"
   ],
   "outputs": [
    {
     "data": {
      "text/plain": [
       "array([0])"
      ]
     },
     "execution_count": 34,
     "metadata": {},
     "output_type": "execute_result"
    }
   ],
   "execution_count": 34
  },
  {
   "cell_type": "markdown",
   "metadata": {},
   "source": [
    "Оценка модели с помощью тестовых данных"
   ]
  },
  {
   "cell_type": "code",
   "metadata": {
    "ExecuteTime": {
     "end_time": "2025-02-03T14:53:01.040007Z",
     "start_time": "2025-02-03T14:53:01.024347Z"
    }
   },
   "source": [
    "#чтение тестовых данных и отбор предикторов\n",
    "test_data = pd.read_csv(\"candy-test.csv\", delimiter=',', index_col='competitorname')\n",
    "X_test = pd.DataFrame(test_data.drop(['Y'], axis=1))"
   ],
   "outputs": [],
   "execution_count": 35
  },
  {
   "cell_type": "code",
   "metadata": {
    "ExecuteTime": {
     "end_time": "2025-02-03T15:45:04.948008Z",
     "start_time": "2025-02-03T15:45:04.926732Z"
    }
   },
   "source": [
    "#предсказание с помощью обученной модели, порог отсечения по умолчанию составляет 0.5\n",
    "Y_pred = reg.predict(X_test.loc[['Tootsie Roll Midgies','Tootsie Roll Juniors']])\n",
    "X_test.loc[['Tootsie Roll Midgies','Tootsie Roll Juniors']]"
   ],
   "outputs": [
    {
     "data": {
      "text/plain": [
       "                      chocolate  fruity  caramel  peanutyalmondy  nougat  \\\n",
       "competitorname                                                             \n",
       "Tootsie Roll Midgies          1       0        0               0       0   \n",
       "Tootsie Roll Juniors          1       0        0               0       0   \n",
       "\n",
       "                      crispedricewafer  hard  bar  pluribus  sugarpercent  \\\n",
       "competitorname                                                              \n",
       "Tootsie Roll Midgies                 0     0    0         1         0.174   \n",
       "Tootsie Roll Juniors                 0     0    0         0         0.313   \n",
       "\n",
       "                      pricepercent  \n",
       "competitorname                      \n",
       "Tootsie Roll Midgies         0.011  \n",
       "Tootsie Roll Juniors         0.511  "
      ],
      "text/html": [
       "<div>\n",
       "<style scoped>\n",
       "    .dataframe tbody tr th:only-of-type {\n",
       "        vertical-align: middle;\n",
       "    }\n",
       "\n",
       "    .dataframe tbody tr th {\n",
       "        vertical-align: top;\n",
       "    }\n",
       "\n",
       "    .dataframe thead th {\n",
       "        text-align: right;\n",
       "    }\n",
       "</style>\n",
       "<table border=\"1\" class=\"dataframe\">\n",
       "  <thead>\n",
       "    <tr style=\"text-align: right;\">\n",
       "      <th></th>\n",
       "      <th>chocolate</th>\n",
       "      <th>fruity</th>\n",
       "      <th>caramel</th>\n",
       "      <th>peanutyalmondy</th>\n",
       "      <th>nougat</th>\n",
       "      <th>crispedricewafer</th>\n",
       "      <th>hard</th>\n",
       "      <th>bar</th>\n",
       "      <th>pluribus</th>\n",
       "      <th>sugarpercent</th>\n",
       "      <th>pricepercent</th>\n",
       "    </tr>\n",
       "    <tr>\n",
       "      <th>competitorname</th>\n",
       "      <th></th>\n",
       "      <th></th>\n",
       "      <th></th>\n",
       "      <th></th>\n",
       "      <th></th>\n",
       "      <th></th>\n",
       "      <th></th>\n",
       "      <th></th>\n",
       "      <th></th>\n",
       "      <th></th>\n",
       "      <th></th>\n",
       "    </tr>\n",
       "  </thead>\n",
       "  <tbody>\n",
       "    <tr>\n",
       "      <th>Tootsie Roll Midgies</th>\n",
       "      <td>1</td>\n",
       "      <td>0</td>\n",
       "      <td>0</td>\n",
       "      <td>0</td>\n",
       "      <td>0</td>\n",
       "      <td>0</td>\n",
       "      <td>0</td>\n",
       "      <td>0</td>\n",
       "      <td>1</td>\n",
       "      <td>0.174</td>\n",
       "      <td>0.011</td>\n",
       "    </tr>\n",
       "    <tr>\n",
       "      <th>Tootsie Roll Juniors</th>\n",
       "      <td>1</td>\n",
       "      <td>0</td>\n",
       "      <td>0</td>\n",
       "      <td>0</td>\n",
       "      <td>0</td>\n",
       "      <td>0</td>\n",
       "      <td>0</td>\n",
       "      <td>0</td>\n",
       "      <td>0</td>\n",
       "      <td>0.313</td>\n",
       "      <td>0.511</td>\n",
       "    </tr>\n",
       "  </tbody>\n",
       "</table>\n",
       "</div>"
      ]
     },
     "execution_count": 147,
     "metadata": {},
     "output_type": "execute_result"
    }
   ],
   "execution_count": 147
  },
  {
   "cell_type": "code",
   "metadata": {
    "ExecuteTime": {
     "end_time": "2025-02-03T15:45:06.196458Z",
     "start_time": "2025-02-03T15:45:06.189414Z"
    }
   },
   "source": [
    "Y_pred"
   ],
   "outputs": [
    {
     "data": {
      "text/plain": [
       "array([1, 1])"
      ]
     },
     "execution_count": 148,
     "metadata": {},
     "output_type": "execute_result"
    }
   ],
   "execution_count": 148
  },
  {
   "cell_type": "code",
   "metadata": {
    "ExecuteTime": {
     "end_time": "2025-02-03T15:19:10.893011Z",
     "start_time": "2025-02-03T15:19:10.879170Z"
    }
   },
   "source": [
    "#вероятности отнесения к 0 и 1 классу объектов тестовых данных соответствнно\n",
    "Y_pred_probs = reg.predict_proba(X_test.loc[['Tootsie Roll Midgies','Tootsie Roll Juniors']])\n",
    "Y_pred_probs_all=reg.predict_proba(X_test)"
   ],
   "outputs": [],
   "execution_count": 122
  },
  {
   "cell_type": "code",
   "metadata": {
    "ExecuteTime": {
     "end_time": "2025-02-03T15:15:31.338100Z",
     "start_time": "2025-02-03T15:15:31.331804Z"
    }
   },
   "source": [
    "Y_pred_probs"
   ],
   "outputs": [
    {
     "data": {
      "text/plain": [
       "array([[0.25931973, 0.74068027],\n",
       "       [0.28307428, 0.71692572]])"
      ]
     },
     "execution_count": 108,
     "metadata": {},
     "output_type": "execute_result"
    }
   ],
   "execution_count": 108
  },
  {
   "cell_type": "code",
   "metadata": {
    "ExecuteTime": {
     "end_time": "2025-02-03T15:19:40.232364Z",
     "start_time": "2025-02-03T15:19:40.221883Z"
    }
   },
   "source": [
    "#отбор вероятностей отнесения объектов к классу 1\n",
    "Y_pred_probs_class_1 = Y_pred_probs[:, 1]\n",
    "Y_pred_probs_class_1_all=Y_pred_probs_all[:, 1]"
   ],
   "outputs": [],
   "execution_count": 123
  },
  {
   "cell_type": "code",
   "metadata": {
    "ExecuteTime": {
     "end_time": "2025-02-03T15:15:40.685030Z",
     "start_time": "2025-02-03T15:15:40.676453Z"
    }
   },
   "source": [
    "Y_pred_probs_class_1"
   ],
   "outputs": [
    {
     "data": {
      "text/plain": [
       "array([0.74068027, 0.71692572])"
      ]
     },
     "execution_count": 110,
     "metadata": {},
     "output_type": "execute_result"
    }
   ],
   "execution_count": 110
  },
  {
   "cell_type": "code",
   "metadata": {
    "ExecuteTime": {
     "end_time": "2025-02-03T15:45:34.108165Z",
     "start_time": "2025-02-03T15:45:34.097185Z"
    }
   },
   "source": [
    "#отбор отклика Y из тестовых данных и преобразование в массив\n",
    "Y_true = (test_data['Y'].to_frame().T).values.ravel()\n",
    "Y_pred_all = Y_pred = reg.predict(X_test)"
   ],
   "outputs": [],
   "execution_count": 149
  },
  {
   "cell_type": "code",
   "metadata": {
    "ExecuteTime": {
     "end_time": "2025-02-03T15:46:35.780621Z",
     "start_time": "2025-02-03T15:46:35.774680Z"
    }
   },
   "source": [
    "print(Y_true)\n",
    "print(Y_pred_all)"
   ],
   "outputs": [
    {
     "name": "stdout",
     "output_type": "stream",
     "text": [
      "[0 0 0 1 1 0 0 1 0 1 0 0 0 0 1]\n",
      "[0 0 0 0 1 1 1 1 0 0 0 0 0 1 1]\n"
     ]
    }
   ],
   "execution_count": 158
  },
  {
   "metadata": {},
   "cell_type": "code",
   "outputs": [],
   "execution_count": null,
   "source": "MakarRybkin/ML-ITMO-openedu"
  },
  {
   "metadata": {},
   "cell_type": "code",
   "outputs": [],
   "execution_count": null,
   "source": "MakarRybkin/ML-ITMO-openedu"
  },
  {
   "cell_type": "code",
   "metadata": {
    "ExecuteTime": {
     "end_time": "2025-02-03T15:25:32.117231Z",
     "start_time": "2025-02-03T15:25:32.112315Z"
    }
   },
   "source": [
    "#подключение библиотеки для вычисления метрик\n",
    "from sklearn import metrics"
   ],
   "outputs": [],
   "execution_count": 133
  },
  {
   "cell_type": "code",
   "metadata": {
    "ExecuteTime": {
     "end_time": "2025-02-03T15:45:37.509152Z",
     "start_time": "2025-02-03T15:45:37.500513Z"
    }
   },
   "source": [
    "fpr, tpr, _ = metrics.roc_curve(Y_true, Y_pred_all)\n",
    "fpr, tpr"
   ],
   "outputs": [
    {
     "data": {
      "text/plain": [
       "(array([0. , 0.3, 1. ]), array([0. , 0.6, 1. ]))"
      ]
     },
     "execution_count": 151,
     "metadata": {},
     "output_type": "execute_result"
    }
   ],
   "execution_count": 151
  },
  {
   "cell_type": "code",
   "metadata": {
    "ExecuteTime": {
     "end_time": "2025-02-03T15:45:39.293231Z",
     "start_time": "2025-02-03T15:45:39.282498Z"
    }
   },
   "source": [
    "#вычисляем AUC\n",
    "metrics.roc_auc_score(Y_true, Y_pred_probs_class_1_all)"
   ],
   "outputs": [
    {
     "data": {
      "text/plain": [
       "np.float64(0.86)"
      ]
     },
     "execution_count": 152,
     "metadata": {},
     "output_type": "execute_result"
    }
   ],
   "execution_count": 152
  },
  {
   "cell_type": "code",
   "metadata": {
    "ExecuteTime": {
     "end_time": "2025-02-03T15:45:40.877275Z",
     "start_time": "2025-02-03T15:45:40.863508Z"
    }
   },
   "source": [
    "#вычисление Recall\n",
    "metrics.recall_score(Y_true, Y_pred)"
   ],
   "outputs": [
    {
     "data": {
      "text/plain": [
       "0.6"
      ]
     },
     "execution_count": 153,
     "metadata": {},
     "output_type": "execute_result"
    }
   ],
   "execution_count": 153
  },
  {
   "cell_type": "code",
   "metadata": {
    "ExecuteTime": {
     "end_time": "2025-02-03T15:19:59.537412Z",
     "start_time": "2025-02-03T15:19:59.525873Z"
    }
   },
   "source": [
    "#вычисление Precision\n",
    "metrics.precision_score(Y_true, Y_pred)"
   ],
   "outputs": [
    {
     "data": {
      "text/plain": [
       "0.5"
      ]
     },
     "execution_count": 126,
     "metadata": {},
     "output_type": "execute_result"
    }
   ],
   "execution_count": 126
  },
  {
   "cell_type": "code",
   "metadata": {
    "ExecuteTime": {
     "end_time": "2025-02-03T15:22:36.516034Z",
     "start_time": "2025-02-03T15:22:36.506134Z"
    }
   },
   "source": [
    "#подключим библиотеки для визуализации\n",
    "import matplotlib.pyplot as plt\n",
    "%matplotlib inline"
   ],
   "outputs": [],
   "execution_count": 129
  },
  {
   "cell_type": "code",
   "metadata": {
    "ExecuteTime": {
     "end_time": "2025-02-03T15:30:22.969227Z",
     "start_time": "2025-02-03T15:30:22.811338Z"
    }
   },
   "source": [
    "metrics.RocCurveDisplay.from_estimator(reg, X_test, Y_true, color='darkorange')\n",
    "plt.xlim([0.0, 1.0])\n",
    "plt.ylim([0.0, 1.05])\n",
    "plt.xlabel('False Positive Rate')\n",
    "plt.ylabel('True Positive Rate')\n",
    "plt.title('Receiver operating characteristic example')\n",
    "plt.legend(loc=\"lower right\")\n",
    "plt.plot([0, 1], [0, 1], color='navy', lw=2, linestyle='--')\n",
    "plt.show()"
   ],
   "outputs": [
    {
     "data": {
      "text/plain": [
       "<Figure size 640x480 with 1 Axes>"
      ],
      "image/png": "[encoded data removed]"
     },
     "metadata": {},
     "output_type": "display_data"
    }
   ],
   "execution_count": 141
  },
  {
   "cell_type": "code",
   "execution_count": null,
   "metadata": {},
   "outputs": [],
   "source": []
  }
 ],
 "metadata": {
  "kernelspec": {
   "display_name": "Python 3",
   "language": "python",
   "name": "python3"
  },
  "language_info": {
   "codemirror_mode": {
    "name": "ipython",
    "version": 3
   },
   "file_extension": ".py",
   "mimetype": "text/x-python",
   "name": "python",
   "nbconvert_exporter": "python",
   "pygments_lexer": "ipython3",
   "version": "3.8.3"
  }
 },
 "nbformat": 4,
 "nbformat_minor": 4
}
