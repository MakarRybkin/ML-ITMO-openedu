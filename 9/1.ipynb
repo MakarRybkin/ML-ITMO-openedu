{
 "cells": [
  {
   "cell_type": "code",
   "id": "initial_id",
   "metadata": {
    "collapsed": true,
    "ExecuteTime": {
     "end_time": "2025-03-12T19:25:45.996369Z",
     "start_time": "2025-03-12T19:25:45.528619Z"
    }
   },
   "source": [
    "#чтение данных, так как названия конфет уникальны, используем их в качестве индекса\n",
    "import numpy as np\n",
    "import pandas as pd\n",
    "data = pd.read_csv(\"data.csv\", delimiter=',', index_col='Object')\n",
    "coords = data.drop('Cluster', axis=1)\n",
    "from sklearn.cluster import KMeans\n",
    "centroids = np.array([[15.0, 8.5], [9.0, 12.83], [14.0, 5.0]])\n",
    "kmeans = KMeans(n_clusters=3,init=centroids,max_iter=100,n_init=1, random_state=0)\n",
    "model=kmeans.fit(coords)\n",
    "model.labels_\n",
    "\n"
   ],
   "outputs": [
    {
     "data": {
      "text/plain": [
       "array([0, 1, 0, 0, 0, 2, 2, 0, 2, 2, 1, 0, 1, 1, 2], dtype=int32)"
      ]
     },
     "execution_count": 21,
     "metadata": {},
     "output_type": "execute_result"
    }
   ],
   "execution_count": 21
  },
  {
   "metadata": {
    "ExecuteTime": {
     "end_time": "2025-03-12T19:27:49.782417Z",
     "start_time": "2025-03-12T19:27:49.758524Z"
    }
   },
   "cell_type": "code",
   "source": [
    "all_distances = kmeans.fit_transform(coords)\n",
    "df=pd.DataFrame(all_distances)\n",
    "df[model.labels_==0].iloc[:,0].mean()"
   ],
   "id": "7f11e9ec4355c854",
   "outputs": [
    {
     "data": {
      "text/plain": [
       "np.float64(4.358005687892641)"
      ]
     },
     "execution_count": 26,
     "metadata": {},
     "output_type": "execute_result"
    }
   ],
   "execution_count": 26
  }
 ],
 "metadata": {
  "kernelspec": {
   "display_name": "Python 3",
   "language": "python",
   "name": "python3"
  },
  "language_info": {
   "codemirror_mode": {
    "name": "ipython",
    "version": 2
   },
   "file_extension": ".py",
   "mimetype": "text/x-python",
   "name": "python",
   "nbconvert_exporter": "python",
   "pygments_lexer": "ipython2",
   "version": "2.7.6"
  }
 },
 "nbformat": 4,
 "nbformat_minor": 5
}
