{
 "nbformat": 4,
 "nbformat_minor": 2,
 "metadata": {
  "language_info": {
   "name": "python",
   "codemirror_mode": {
    "name": "ipython",
    "version": 3
   },
   "version": "3.8.1-final"
  },
  "orig_nbformat": 2,
  "file_extension": ".py",
  "mimetype": "text/x-python",
  "name": "python",
  "npconvert_exporter": "python",
  "pygments_lexer": "ipython3",
  "version": 3,
  "kernelspec": {
   "name": "python3",
   "display_name": "Python 3 (ipykernel)",
   "language": "python"
  }
 },
 "cells": [
  {
   "cell_type": "markdown",
   "metadata": {},
   "source": [
    "### 0. Получение данных ###\n",
    "\n",
    "Получим из бд необходимые выборки командой:\n",
    "```\n",
    "SELECT * FROM pulsar_stars WHERE (target = 0 AND mip BETWEEN 87.5859375 AND 88.484375) OR (target = 1 AND mip BETWEEN 52.9296875 AND 58.7890625)\n",
    "```\n",
    "и скачаем в формате csv. Импортируем нужные пакеты и файл."
   ]
  },
  {
   "cell_type": "code",
   "metadata": {
    "ExecuteTime": {
     "end_time": "2025-01-19T15:33:46.038194Z",
     "start_time": "2025-01-19T15:33:43.518305Z"
    }
   },
   "source": [
    "import pandas\n",
    "import numpy\n",
    "from sklearn.preprocessing import MinMaxScaler\n",
    "from sklearn.metrics.pairwise import euclidean_distances\n",
    "data = pandas.read_csv(\"report.csv\")"
   ],
   "outputs": [],
   "execution_count": 2
  },
  {
   "cell_type": "markdown",
   "metadata": {},
   "source": [
    "### 1. Количество строк в полученной выборке ###"
   ]
  },
  {
   "cell_type": "code",
   "metadata": {
    "ExecuteTime": {
     "end_time": "2025-01-19T15:33:46.056660Z",
     "start_time": "2025-01-19T15:33:46.049751Z"
    }
   },
   "source": [
    "count = len(data)\n",
    "print(count)"
   ],
   "outputs": [
    {
     "name": "stdout",
     "output_type": "stream",
     "text": [
      "202\n"
     ]
    }
   ],
   "execution_count": 3
  },
  {
   "cell_type": "markdown",
   "metadata": {},
   "source": [
    "### 2. Выборочное среднее ###\n",
    "Найдём по формуле: $$\\bar X ={\\frac  {1}{n}}\\sum \\limits _{{i=1}}^{n}X_{i} $$"
   ]
  },
  {
   "cell_type": "code",
   "metadata": {
    "ExecuteTime": {
     "end_time": "2025-01-19T15:33:46.606498Z",
     "start_time": "2025-01-19T15:33:46.575372Z"
    }
   },
   "source": "print(numpy.mean(data.MIP))",
   "outputs": [
    {
     "name": "stdout",
     "output_type": "stream",
     "text": [
      "72.01322710396039\n"
     ]
    }
   ],
   "execution_count": 4
  },
  {
   "cell_type": "markdown",
   "metadata": {},
   "source": [
    "### 3. Линейная нормировка ###\n",
    "Вычисляется по формуле: $$ \\tilde{x_i}=\\frac{x_i - x_{i, min}}{x_{i, max}-x_{i, min}} $$"
   ]
  },
  {
   "cell_type": "code",
   "metadata": {
    "ExecuteTime": {
     "end_time": "2025-01-19T15:34:36.971555Z",
     "start_time": "2025-01-19T15:34:36.954314Z"
    }
   },
   "source": [
    "\n",
    "normalized = pandas.DataFrame(MinMaxScaler().fit_transform(data))\n",
    "print(numpy.mean(normalized[0]))"
   ],
   "outputs": [
    {
     "name": "stdout",
     "output_type": "stream",
     "text": [
      "0.5367376553080491\n"
     ]
    }
   ],
   "execution_count": 9
  },
  {
   "cell_type": "markdown",
   "metadata": {},
   "source": [
    "### 4. Евклидова метрика ###\n",
    "Евклидова метрика (метрика в евклидовом пространстве) — расстояние между двумя точками евклидова пространства, вычисляемое по теореме Пифагора: $$ d_{pq}= \\sqrt{\\sum \\limits_{i=1}^{n} (p_{i} - q_{i})^2} $$"
   ]
  },
  {
   "cell_type": "code",
   "metadata": {
    "ExecuteTime": {
     "end_time": "2025-01-19T15:22:10.698154Z",
     "start_time": "2025-01-19T15:22:10.631267Z"
    }
   },
   "source": [
    "star = pandas.DataFrame([[0.833, 0.092, 0.443, 0.092, 0.112, 0.86, 0.742, 0.299]])\n",
    "numpy.min(euclidean_distances(star, normalized))"
   ],
   "outputs": [
    {
     "data": {
      "text/plain": [
       "np.float64(0.9033027003473696)"
      ]
     },
     "execution_count": 12,
     "metadata": {},
     "output_type": "execute_result"
    }
   ],
   "execution_count": 12
  }
 ]
}
